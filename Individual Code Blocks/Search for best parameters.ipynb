{
 "cells": [
  {
   "cell_type": "code",
   "execution_count": null,
   "id": "cc190d67",
   "metadata": {},
   "outputs": [],
   "source": [
    "import pandas as pd\n",
    "import numpy as np\n",
    "\n",
    "from sklearn import svm\n",
    "from sklearn.ensemble import RandomForestClassifier, GradientBoostingClassifier, BaggingClassifier\n",
    "from sklearn.naive_bayes import GaussianNB"
   ]
  },
  {
   "cell_type": "code",
   "execution_count": null,
   "id": "0d2ad6c3",
   "metadata": {},
   "outputs": [],
   "source": [
    "# This is a dictionary which allows us to run the model for different parameters and compare the results.\n",
    "# Allowing us to search for best parameter\n",
    "model_params = {\n",
    "    \"GradientBoostingClassifier\" : {\n",
    "        \"model\" : GradientBoostingClassifier(),\n",
    "        \"params\" : {\n",
    "            \"n_estimators\" : list(range(50,500,10)),\n",
    "            \"max_depth\" : list(range(2,10))\n",
    "        }\n",
    "    },\n",
    "    \"RandomForestClassifier\" : {\n",
    "        \"model\" : RandomForestClassifier(),\n",
    "        \"params\" : {\n",
    "            \"n_estimators\" : list(range(50,500,10)),\n",
    "            \"max_depth\" : list(range(2,10))\n",
    "        }\n",
    "    },\n",
    "    \"BaggingClassifier\" : {\n",
    "        \"model\" : BaggingClassifier(),\n",
    "        \"params\" : {\n",
    "            \"n_estimators\" : list(range(50,500,10)),\n",
    "            \"max_depth\" : list(range(2,10))\n",
    "        }\n",
    "    },\n",
    "    \"GaussianNB\" : {\n",
    "        \"model\" : GaussianNB(),\n",
    "        \"params\" : {}\n",
    "    }\n",
    "}"
   ]
  },
  {
   "cell_type": "code",
   "execution_count": null,
   "id": "2af676d2",
   "metadata": {},
   "outputs": [],
   "source": [
    "from sklearn.model_selection import GridSearchCV\n",
    "scores = []\n",
    "\n",
    "for model_name, mp in model_params.items():\n",
    "    clf = GridSearchCV(mp[\"model\"], mp[\"params\"], cv = 5, return_train_score=False)\n",
    "    clf.fit(train,test)\n",
    "    scores.append({\n",
    "        \"model\" : model_name,\n",
    "        \"best_score\" : clf.best_score_,\n",
    "        \"best_params\" : clf.best_params_\n",
    "    })\n",
    "\n",
    "df = pd.DataFrame(scores, columns = [\"Model\", \"Best Score\", \"Best Parameters\"])\n",
    "df"
   ]
  }
 ],
 "metadata": {
  "kernelspec": {
   "display_name": "Python 3 (ipykernel)",
   "language": "python",
   "name": "python3"
  },
  "language_info": {
   "codemirror_mode": {
    "name": "ipython",
    "version": 3
   },
   "file_extension": ".py",
   "mimetype": "text/x-python",
   "name": "python",
   "nbconvert_exporter": "python",
   "pygments_lexer": "ipython3",
   "version": "3.10.6"
  }
 },
 "nbformat": 4,
 "nbformat_minor": 5
}
